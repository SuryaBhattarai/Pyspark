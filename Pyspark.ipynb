{
 "cells": [
  {
   "cell_type": "code",
   "execution_count": 1,
   "id": "e2e70594-7b0c-4933-9a25-4d9dfb8b5985",
   "metadata": {},
   "outputs": [],
   "source": [
    "## Pyspark Project"
   ]
  },
  {
   "cell_type": "code",
   "execution_count": 2,
   "id": "51650fde-8f13-4635-95ac-0db349bd5f9d",
   "metadata": {},
   "outputs": [
    {
     "data": {
      "text/plain": [
       "'/opt/anaconda3/envs/pyspark-env/lib/python3.12/site-packages/pyspark'"
      ]
     },
     "execution_count": 2,
     "metadata": {},
     "output_type": "execute_result"
    }
   ],
   "source": [
    "# helps to show where the pyspark is installed\n",
    "import findspark\n",
    "findspark.init()\n",
    "findspark.find()"
   ]
  },
  {
   "cell_type": "code",
   "execution_count": 3,
   "id": "960e187a-cf0f-4ae5-a124-d8223f1ae0eb",
   "metadata": {},
   "outputs": [
    {
     "name": "stderr",
     "output_type": "stream",
     "text": [
      "Setting default log level to \"WARN\".\n",
      "To adjust logging level use sc.setLogLevel(newLevel). For SparkR, use setLogLevel(newLevel).\n",
      "24/07/23 15:23:31 WARN NativeCodeLoader: Unable to load native-hadoop library for your platform... using builtin-java classes where applicable\n"
     ]
    }
   ],
   "source": [
    "from pyspark.context import SparkContext\n",
    "from pyspark.sql.session import SparkSession\n",
    "#from pyspark.sql import SparkSession\n",
    "from pyspark.sql import SparkSession\n",
    "from pyspark.sql.functions import date_format\n",
    "\n",
    "#build sparke session\n",
    "sc = SparkContext.getOrCreate()\n",
    "spark = SparkSession(sc)"
   ]
  },
  {
   "cell_type": "code",
   "execution_count": 4,
   "id": "b5dd6b58-b222-4dcf-bc45-86eefede5a52",
   "metadata": {},
   "outputs": [
    {
     "name": "stdout",
     "output_type": "stream",
     "text": [
      "3.4.1\n"
     ]
    }
   ],
   "source": [
    "print(spark.version)"
   ]
  },
  {
   "cell_type": "code",
   "execution_count": 5,
   "id": "d59b0ec6-bee2-4aa6-b8bf-d13c235d2aeb",
   "metadata": {},
   "outputs": [
    {
     "data": {
      "text/html": [
       "\n",
       "        <div>\n",
       "            <p><b>SparkContext</b></p>\n",
       "\n",
       "            <p><a href=\"http://suryas-mbp.fritz.box:4040\">Spark UI</a></p>\n",
       "\n",
       "            <dl>\n",
       "              <dt>Version</dt>\n",
       "                <dd><code>v3.4.1</code></dd>\n",
       "              <dt>Master</dt>\n",
       "                <dd><code>local[*]</code></dd>\n",
       "              <dt>AppName</dt>\n",
       "                <dd><code>pyspark-shell</code></dd>\n",
       "            </dl>\n",
       "        </div>\n",
       "        "
      ],
      "text/plain": [
       "<SparkContext master=local[*] appName=pyspark-shell>"
      ]
     },
     "execution_count": 5,
     "metadata": {},
     "output_type": "execute_result"
    }
   ],
   "source": [
    "sc"
   ]
  },
  {
   "cell_type": "code",
   "execution_count": 6,
   "id": "82660eaf-d42a-48cd-b5fb-7aaf28b64374",
   "metadata": {},
   "outputs": [
    {
     "name": "stderr",
     "output_type": "stream",
     "text": [
      "                                                                                \r"
     ]
    },
    {
     "name": "stdout",
     "output_type": "stream",
     "text": [
      "+--------+----------+--------+---------+-----------------+----------------+-------------------+--------------------+-----------+----------------+\n",
      "|ID_ORDER|ID_PRODUCT|ID_BUYER|ID_SELLER|ID_SELLER_COUNTRY|ID_BUYER_COUNTRY|       DATE_PAYMENT|               BRAND|   CATEGORY|         REVENUE|\n",
      "+--------+----------+--------+---------+-----------------+----------------+-------------------+--------------------+-----------+----------------+\n",
      "|34033734|  13681706| 9666775|  6723223|              203|             170|2021-01-07 00:09:24|           Dsquared2|   clothing|        57.27456|\n",
      "|33933770|  13575555| 8259842|  9983902|              222|             222|2021-01-05 00:23:10|               Eytys|      shoes|     168.7398624|\n",
      "|33415990|  10239167| 8541994|   144764|              141|             204|2021-01-06 00:06:50|                Dior|      shoes|         126.414|\n",
      "|33415990|  10239167| 8941774|   144764|              141|             204|2021-01-06 00:06:50|                Dior|      shoes|         126.414|\n",
      "|33415990|  10239167| 8541774|   944764|              141|             204|2021-01-06 00:06:50|                Dior|      shoes|         126.414|\n",
      "|33415990|  10239167| 8541554|   177767|              141|             204|2021-01-06 00:06:50|                Dior|      shoes|         126.414|\n",
      "|33415990|  10239167| 8541224|   155765|              141|             204|2021-01-06 00:06:50|                Dior|      shoes|         126.414|\n",
      "|34265913|  13840038|10442152| 11371626|              175|             175|2021-01-14 00:28:02|              Chanel|accessories|         112.059|\n",
      "|34090789|  11553467|11375808| 10402373|               74|             105|2021-01-08 00:20:07|               SEIKO|accessories|         170.982|\n",
      "|34194457|   7906031|66433269|  5738919|              105|             223|2021-01-05 00:12:59|     Roberto Cavalli|  jewellery|189.648523584127|\n",
      "|34194457|   7906031|11433019|  5738989|              105|             223|2021-01-05 00:12:59|     Roberto Cavalli|  jewellery|189.648523584127|\n",
      "|34213223|  12580401|11046667|  7771155|              222|             222|2021-01-06 00:04:25|Maison Martin Mar...|      shoes|      89.5641507|\n",
      "|34244018|  13178426| 7335847|  9135153|              105|              74|2021-01-06 00:00:46|             Bvlgari|       bags|         194.049|\n",
      "|34244018|  13178426| 7335847|  9135153|              105|              74|2021-01-06 00:00:46|             Bvlgari|       bags|         194.049|\n",
      "|34244018|  13178426| 1335841|  9135153|              105|              74|2021-01-06 00:00:46|             Bvlgari|       bags|         194.049|\n",
      "|34134903|  13353879| 6277988| 11272282|               84|              74|2021-01-06 00:09:29|              Tissot|accessories|            76.5|\n",
      "|34146411|  13594683|55303560| 10482555|              105|             171|2021-01-06 00:08:56|               Fendi|  jewellery|         172.458|\n",
      "|33949642|  10353961| 2492284|     8257|               74|              74|2021-01-06 00:02:13|    Francesco Smalto|   clothing|          80.433|\n",
      "|34172589|  13518195| 4268987| 11327123|              105|             105|2021-01-07 00:03:15|               Gucci|       bags|121.368693009119|\n",
      "|34172589|  13518195| 2268980| 11027120|              105|             105|2021-01-07 00:03:15|               Gucci|       bags|121.368693009119|\n",
      "+--------+----------+--------+---------+-----------------+----------------+-------------------+--------------------+-----------+----------------+\n",
      "only showing top 20 rows\n",
      "\n"
     ]
    }
   ],
   "source": [
    "# spark is an existing SparkSession\n",
    "df1= spark.read.csv(\"datasets_sales.csv\", header='true', inferSchema='true')\n",
    "\n",
    "# Displays the content of the DataFrame to stdout\n",
    "df1.show()"
   ]
  },
  {
   "cell_type": "code",
   "execution_count": 7,
   "id": "5a6c7fd8-fb5a-4d59-88c8-e5f9d25cc79b",
   "metadata": {},
   "outputs": [],
   "source": [
    "#df1.select(\"category\").show()"
   ]
  },
  {
   "cell_type": "code",
   "execution_count": 8,
   "id": "d5e885aa-206d-4413-b78b-ee173eecbfa7",
   "metadata": {},
   "outputs": [],
   "source": [
    "#df1.filter(df1['revenue'] > 1000).show()"
   ]
  },
  {
   "cell_type": "code",
   "execution_count": 9,
   "id": "fb2326cc-cd0f-46d6-8528-a8b1f31f4bca",
   "metadata": {},
   "outputs": [
    {
     "name": "stdout",
     "output_type": "stream",
     "text": [
      "+----------+------+-------------------+\n",
      "|ID_COUNTRY|REGION|            COUNTRY|\n",
      "+----------+------+-------------------+\n",
      "|       123|  EMEA|          Lithuania|\n",
      "|       117|  EMEA|             Latvia|\n",
      "|        67|  EMEA|            Estonia|\n",
      "|        84|  EMEA|             Greece|\n",
      "|       175|  EMEA|            Romania|\n",
      "|       170|  EMEA|             Poland|\n",
      "|       189|  EMEA|           Slovakia|\n",
      "|        97|  EMEA|            Hungary|\n",
      "|        56|  EMEA|     Czech Republic|\n",
      "|        26|  AMER|            Bolivia|\n",
      "|        18|  APAC|         Bangladesh|\n",
      "|        50|  APAC|       Cook Islands|\n",
      "|       115|  APAC|         Kyrgyzstan|\n",
      "|       179|  AMER|        Saint Lucia|\n",
      "|       211|  APAC|            Tokelau|\n",
      "|       149|  APAC|              Nepal|\n",
      "|       181|  APAC|              Samoa|\n",
      "|       213|  AMER|Trinidad and Tobago|\n",
      "|        22|  AMER|             Belize|\n",
      "|        54|  AMER|               Cuba|\n",
      "+----------+------+-------------------+\n",
      "only showing top 20 rows\n",
      "\n"
     ]
    }
   ],
   "source": [
    "# spark is an existing SparkSession\n",
    "df2 = spark.read.csv(\"datasets_country.csv\", header='true', inferSchema='true')\n",
    "\n",
    "# Displays the content of the DataFrame to stdout\n",
    "df2.show()"
   ]
  },
  {
   "cell_type": "code",
   "execution_count": 10,
   "id": "26003527-5dd1-42d4-91a2-43f5b69a8256",
   "metadata": {},
   "outputs": [
    {
     "name": "stdout",
     "output_type": "stream",
     "text": [
      "+--------+----------+--------+---------+-----------------+----------------+-------------------+--------------------+-----------+----------------+----------+------+--------------+\n",
      "|ID_ORDER|ID_PRODUCT|ID_BUYER|ID_SELLER|ID_SELLER_COUNTRY|ID_BUYER_COUNTRY|       DATE_PAYMENT|               BRAND|   CATEGORY|         REVENUE|ID_COUNTRY|REGION|       COUNTRY|\n",
      "+--------+----------+--------+---------+-----------------+----------------+-------------------+--------------------+-----------+----------------+----------+------+--------------+\n",
      "|34033734|  13681706| 9666775|  6723223|              203|             170|2021-01-07 00:09:24|           Dsquared2|   clothing|        57.27456|       203|  EMEA|        Sweden|\n",
      "|33933770|  13575555| 8259842|  9983902|              222|             222|2021-01-05 00:23:10|               Eytys|      shoes|     168.7398624|       222|  EMEA|United Kingdom|\n",
      "|33415990|  10239167| 8541994|   144764|              141|             204|2021-01-06 00:06:50|                Dior|      shoes|         126.414|       141|  EMEA|        Monaco|\n",
      "|33415990|  10239167| 8941774|   144764|              141|             204|2021-01-06 00:06:50|                Dior|      shoes|         126.414|       141|  EMEA|        Monaco|\n",
      "|33415990|  10239167| 8541774|   944764|              141|             204|2021-01-06 00:06:50|                Dior|      shoes|         126.414|       141|  EMEA|        Monaco|\n",
      "|33415990|  10239167| 8541554|   177767|              141|             204|2021-01-06 00:06:50|                Dior|      shoes|         126.414|       141|  EMEA|        Monaco|\n",
      "|33415990|  10239167| 8541224|   155765|              141|             204|2021-01-06 00:06:50|                Dior|      shoes|         126.414|       141|  EMEA|        Monaco|\n",
      "|34265913|  13840038|10442152| 11371626|              175|             175|2021-01-14 00:28:02|              Chanel|accessories|         112.059|       175|  EMEA|       Romania|\n",
      "|34090789|  11553467|11375808| 10402373|               74|             105|2021-01-08 00:20:07|               SEIKO|accessories|         170.982|        74|  EMEA|        France|\n",
      "|34194457|   7906031|66433269|  5738919|              105|             223|2021-01-05 00:12:59|     Roberto Cavalli|  jewellery|189.648523584127|       105|  EMEA|         Italy|\n",
      "|34194457|   7906031|11433019|  5738989|              105|             223|2021-01-05 00:12:59|     Roberto Cavalli|  jewellery|189.648523584127|       105|  EMEA|         Italy|\n",
      "|34213223|  12580401|11046667|  7771155|              222|             222|2021-01-06 00:04:25|Maison Martin Mar...|      shoes|      89.5641507|       222|  EMEA|United Kingdom|\n",
      "|34244018|  13178426| 7335847|  9135153|              105|              74|2021-01-06 00:00:46|             Bvlgari|       bags|         194.049|       105|  EMEA|         Italy|\n",
      "|34244018|  13178426| 7335847|  9135153|              105|              74|2021-01-06 00:00:46|             Bvlgari|       bags|         194.049|       105|  EMEA|         Italy|\n",
      "|34244018|  13178426| 1335841|  9135153|              105|              74|2021-01-06 00:00:46|             Bvlgari|       bags|         194.049|       105|  EMEA|         Italy|\n",
      "|34134903|  13353879| 6277988| 11272282|               84|              74|2021-01-06 00:09:29|              Tissot|accessories|            76.5|        84|  EMEA|        Greece|\n",
      "|34146411|  13594683|55303560| 10482555|              105|             171|2021-01-06 00:08:56|               Fendi|  jewellery|         172.458|       105|  EMEA|         Italy|\n",
      "|33949642|  10353961| 2492284|     8257|               74|              74|2021-01-06 00:02:13|    Francesco Smalto|   clothing|          80.433|        74|  EMEA|        France|\n",
      "|34172589|  13518195| 4268987| 11327123|              105|             105|2021-01-07 00:03:15|               Gucci|       bags|121.368693009119|       105|  EMEA|         Italy|\n",
      "|34172589|  13518195| 2268980| 11027120|              105|             105|2021-01-07 00:03:15|               Gucci|       bags|121.368693009119|       105|  EMEA|         Italy|\n",
      "+--------+----------+--------+---------+-----------------+----------------+-------------------+--------------------+-----------+----------------+----------+------+--------------+\n",
      "only showing top 20 rows\n",
      "\n"
     ]
    }
   ],
   "source": [
    "dfResult = df1.join(df2, df1.ID_SELLER_COUNTRY == df2.ID_COUNTRY, how=\"inner\")\n",
    "dfResult.show()"
   ]
  },
  {
   "cell_type": "code",
   "execution_count": null,
   "id": "bcbe3f90-a63c-4eee-9a9e-c901e1de1f3f",
   "metadata": {},
   "outputs": [],
   "source": []
  },
  {
   "cell_type": "code",
   "execution_count": 11,
   "id": "2e02f02c-39f5-4159-b834-8300da431e4e",
   "metadata": {},
   "outputs": [],
   "source": [
    "# Register the DataFrame as a temporary view\n",
    "dfResult.createOrReplaceTempView(\"dfResult\")\n",
    "result = spark.sql(\"\"\"SELECT ID_ORDER, ID_PRODUCT, ID_BUYER, ID_SELLER, DATE_PAYMENT, BRAND, CATEGORY, REVENUE, REGION, COUNTRY  FROM dfResult\"\"\")"
   ]
  },
  {
   "cell_type": "code",
   "execution_count": 12,
   "id": "4d609708-13ac-4657-81a0-2978b4e6cb69",
   "metadata": {},
   "outputs": [
    {
     "name": "stdout",
     "output_type": "stream",
     "text": [
      "+--------+----------+--------+---------+-------------------+--------------------+-----------+----------------+------+--------------+\n",
      "|ID_ORDER|ID_PRODUCT|ID_BUYER|ID_SELLER|       DATE_PAYMENT|               BRAND|   CATEGORY|         REVENUE|REGION|       COUNTRY|\n",
      "+--------+----------+--------+---------+-------------------+--------------------+-----------+----------------+------+--------------+\n",
      "|34033734|  13681706| 9666775|  6723223|2021-01-07 00:09:24|           Dsquared2|   clothing|        57.27456|  EMEA|        Sweden|\n",
      "|33933770|  13575555| 8259842|  9983902|2021-01-05 00:23:10|               Eytys|      shoes|     168.7398624|  EMEA|United Kingdom|\n",
      "|33415990|  10239167| 8541994|   144764|2021-01-06 00:06:50|                Dior|      shoes|         126.414|  EMEA|        Monaco|\n",
      "|33415990|  10239167| 8941774|   144764|2021-01-06 00:06:50|                Dior|      shoes|         126.414|  EMEA|        Monaco|\n",
      "|33415990|  10239167| 8541774|   944764|2021-01-06 00:06:50|                Dior|      shoes|         126.414|  EMEA|        Monaco|\n",
      "|33415990|  10239167| 8541554|   177767|2021-01-06 00:06:50|                Dior|      shoes|         126.414|  EMEA|        Monaco|\n",
      "|33415990|  10239167| 8541224|   155765|2021-01-06 00:06:50|                Dior|      shoes|         126.414|  EMEA|        Monaco|\n",
      "|34265913|  13840038|10442152| 11371626|2021-01-14 00:28:02|              Chanel|accessories|         112.059|  EMEA|       Romania|\n",
      "|34090789|  11553467|11375808| 10402373|2021-01-08 00:20:07|               SEIKO|accessories|         170.982|  EMEA|        France|\n",
      "|34194457|   7906031|66433269|  5738919|2021-01-05 00:12:59|     Roberto Cavalli|  jewellery|189.648523584127|  EMEA|         Italy|\n",
      "|34194457|   7906031|11433019|  5738989|2021-01-05 00:12:59|     Roberto Cavalli|  jewellery|189.648523584127|  EMEA|         Italy|\n",
      "|34213223|  12580401|11046667|  7771155|2021-01-06 00:04:25|Maison Martin Mar...|      shoes|      89.5641507|  EMEA|United Kingdom|\n",
      "|34244018|  13178426| 7335847|  9135153|2021-01-06 00:00:46|             Bvlgari|       bags|         194.049|  EMEA|         Italy|\n",
      "|34244018|  13178426| 7335847|  9135153|2021-01-06 00:00:46|             Bvlgari|       bags|         194.049|  EMEA|         Italy|\n",
      "|34244018|  13178426| 1335841|  9135153|2021-01-06 00:00:46|             Bvlgari|       bags|         194.049|  EMEA|         Italy|\n",
      "|34134903|  13353879| 6277988| 11272282|2021-01-06 00:09:29|              Tissot|accessories|            76.5|  EMEA|        Greece|\n",
      "|34146411|  13594683|55303560| 10482555|2021-01-06 00:08:56|               Fendi|  jewellery|         172.458|  EMEA|         Italy|\n",
      "|33949642|  10353961| 2492284|     8257|2021-01-06 00:02:13|    Francesco Smalto|   clothing|          80.433|  EMEA|        France|\n",
      "|34172589|  13518195| 4268987| 11327123|2021-01-07 00:03:15|               Gucci|       bags|121.368693009119|  EMEA|         Italy|\n",
      "|34172589|  13518195| 2268980| 11027120|2021-01-07 00:03:15|               Gucci|       bags|121.368693009119|  EMEA|         Italy|\n",
      "+--------+----------+--------+---------+-------------------+--------------------+-----------+----------------+------+--------------+\n",
      "only showing top 20 rows\n",
      "\n"
     ]
    }
   ],
   "source": [
    "result.show()"
   ]
  },
  {
   "cell_type": "code",
   "execution_count": 13,
   "id": "57394855-b63c-4934-8480-686739862c5a",
   "metadata": {},
   "outputs": [
    {
     "name": "stdout",
     "output_type": "stream",
     "text": [
      "+--------+----------+--------+---------+------------+--------------------+-----------+----------------+------+--------------+\n",
      "|ID_ORDER|ID_PRODUCT|ID_BUYER|ID_SELLER|DATE_PAYMENT|               BRAND|   CATEGORY|         REVENUE|REGION|       COUNTRY|\n",
      "+--------+----------+--------+---------+------------+--------------------+-----------+----------------+------+--------------+\n",
      "|34033734|  13681706| 9666775|  6723223|  2021-01-07|           Dsquared2|   clothing|        57.27456|  EMEA|        Sweden|\n",
      "|33933770|  13575555| 8259842|  9983902|  2021-01-05|               Eytys|      shoes|     168.7398624|  EMEA|United Kingdom|\n",
      "|33415990|  10239167| 8541994|   144764|  2021-01-06|                Dior|      shoes|         126.414|  EMEA|        Monaco|\n",
      "|33415990|  10239167| 8941774|   144764|  2021-01-06|                Dior|      shoes|         126.414|  EMEA|        Monaco|\n",
      "|33415990|  10239167| 8541774|   944764|  2021-01-06|                Dior|      shoes|         126.414|  EMEA|        Monaco|\n",
      "|33415990|  10239167| 8541554|   177767|  2021-01-06|                Dior|      shoes|         126.414|  EMEA|        Monaco|\n",
      "|33415990|  10239167| 8541224|   155765|  2021-01-06|                Dior|      shoes|         126.414|  EMEA|        Monaco|\n",
      "|34265913|  13840038|10442152| 11371626|  2021-01-14|              Chanel|accessories|         112.059|  EMEA|       Romania|\n",
      "|34090789|  11553467|11375808| 10402373|  2021-01-08|               SEIKO|accessories|         170.982|  EMEA|        France|\n",
      "|34194457|   7906031|66433269|  5738919|  2021-01-05|     Roberto Cavalli|  jewellery|189.648523584127|  EMEA|         Italy|\n",
      "|34194457|   7906031|11433019|  5738989|  2021-01-05|     Roberto Cavalli|  jewellery|189.648523584127|  EMEA|         Italy|\n",
      "|34213223|  12580401|11046667|  7771155|  2021-01-06|Maison Martin Mar...|      shoes|      89.5641507|  EMEA|United Kingdom|\n",
      "|34244018|  13178426| 7335847|  9135153|  2021-01-06|             Bvlgari|       bags|         194.049|  EMEA|         Italy|\n",
      "|34244018|  13178426| 7335847|  9135153|  2021-01-06|             Bvlgari|       bags|         194.049|  EMEA|         Italy|\n",
      "|34244018|  13178426| 1335841|  9135153|  2021-01-06|             Bvlgari|       bags|         194.049|  EMEA|         Italy|\n",
      "|34134903|  13353879| 6277988| 11272282|  2021-01-06|              Tissot|accessories|            76.5|  EMEA|        Greece|\n",
      "|34146411|  13594683|55303560| 10482555|  2021-01-06|               Fendi|  jewellery|         172.458|  EMEA|         Italy|\n",
      "|33949642|  10353961| 2492284|     8257|  2021-01-06|    Francesco Smalto|   clothing|          80.433|  EMEA|        France|\n",
      "|34172589|  13518195| 4268987| 11327123|  2021-01-07|               Gucci|       bags|121.368693009119|  EMEA|         Italy|\n",
      "|34172589|  13518195| 2268980| 11027120|  2021-01-07|               Gucci|       bags|121.368693009119|  EMEA|         Italy|\n",
      "+--------+----------+--------+---------+------------+--------------------+-----------+----------------+------+--------------+\n",
      "only showing top 20 rows\n",
      "\n"
     ]
    }
   ],
   "source": [
    "result_with_date = result.withColumn(\"DATE_PAYMENT\", date_format(\"DATE_PAYMENT\", \"yyyy-MM-dd\"))\n",
    "result_with_date.show()"
   ]
  },
  {
   "cell_type": "code",
   "execution_count": null,
   "id": "08c3b1b3-1ccb-41ec-8c42-8fd9d3793176",
   "metadata": {},
   "outputs": [],
   "source": []
  },
  {
   "cell_type": "code",
   "execution_count": null,
   "id": "b26a6b65-5483-4c4b-b956-2b23f9d01ff7",
   "metadata": {},
   "outputs": [],
   "source": []
  },
  {
   "cell_type": "code",
   "execution_count": null,
   "id": "cfdb820d-d073-4a32-b727-44e23a20cad5",
   "metadata": {},
   "outputs": [],
   "source": []
  },
  {
   "cell_type": "code",
   "execution_count": null,
   "id": "3bf1404d-721a-4522-84ef-8a1ca8194eb7",
   "metadata": {},
   "outputs": [],
   "source": []
  },
  {
   "cell_type": "code",
   "execution_count": null,
   "id": "91b07c59-60c9-436a-b639-eb01126cdb30",
   "metadata": {},
   "outputs": [],
   "source": []
  },
  {
   "cell_type": "code",
   "execution_count": null,
   "id": "f72832ac-2a27-4029-ba76-5d652e486ae7",
   "metadata": {},
   "outputs": [],
   "source": []
  },
  {
   "cell_type": "code",
   "execution_count": null,
   "id": "427532e4-69fc-460a-ba20-80bd4b74a897",
   "metadata": {},
   "outputs": [],
   "source": []
  }
 ],
 "metadata": {
  "kernelspec": {
   "display_name": "pyspark-env",
   "language": "python",
   "name": "pyspark-env"
  },
  "language_info": {
   "codemirror_mode": {
    "name": "ipython",
    "version": 3
   },
   "file_extension": ".py",
   "mimetype": "text/x-python",
   "name": "python",
   "nbconvert_exporter": "python",
   "pygments_lexer": "ipython3",
   "version": "3.12.4"
  }
 },
 "nbformat": 4,
 "nbformat_minor": 5
}
